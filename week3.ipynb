{
 "cells": [
  {
   "cell_type": "markdown",
   "metadata": {},
   "source": [
    "# Linear sorting"
   ]
  },
  {
   "cell_type": "markdown",
   "metadata": {},
   "source": [
    "All sorting utilizing the comparison model are lower bounded by $O(nlogn)$. The direct access arrays have $O(1)$ read and write times. Therefore by leveraging direct access arrays sorting can be performed in $O(n)$. \n",
    "\n",
    "The rest of notebook goes through the developement of a sorting algorithm (radix sort) that achieves $O(n)$ sorting performance. "
   ]
  },
  {
   "cell_type": "markdown",
   "metadata": {},
   "source": [
    "## Direct Access Sort\n",
    "\n",
    "This data structure requires unique keys. It instantiates a direct access array of length $u$. Where is the max range of values of the keys can take. The keys are taken from the set $[0,u]$. \n",
    "\n",
    "Fist a direct access array of length $u$ needs to be instantiated costing $O(u)$.\n",
    "\n",
    "Secondly, the items need to be inserted into the direct access array. Each insert operation run in constant time resulting in a total cost of $O(n)$ to insert all items.\n",
    "\n",
    "Then the direct access array needs to be iterated through yeilding its stored value if present. This returns a sorted version of the list and runs in $O(u)$.\n",
    "\n",
    "Cons:\n",
    "- The issues with direct access array is that it assumes unique keys, otherwise collision exists for the direct access array. \n",
    "- Moreover it works well only when $u=O(n)$, otherwise sorting complexity is more than $O(n)$ "
   ]
  },
  {
   "cell_type": "code",
   "execution_count": 1,
   "metadata": {},
   "outputs": [],
   "source": [
    "# %load -s direct_access_sort modules/linear_sort.py\n",
    "def direct_access_sort(A):\n",
    "    u=1+max([a.key for a in A]) #O(n)\n",
    "    D=[None]*u #O(u)\n",
    "    for a in A: #O(n)\n",
    "        D[a.key]=a\n",
    "    i=0\n",
    "    for d in D: #O(u)\n",
    "        if d is not None:\n",
    "            A[i]=d\n",
    "            i+=1\n"
   ]
  },
  {
   "cell_type": "code",
   "execution_count": 2,
   "metadata": {},
   "outputs": [
    {
     "name": "stdout",
     "output_type": "stream",
     "text": [
      "[2, 4, 9, 3, 6, 12]\n",
      "[2, 3, 4, 6, 9, 12]\n"
     ]
    }
   ],
   "source": [
    "a_key=[2,4,9,3,6,12]\n",
    "A=[type('Node', (object,), {'key': key}) for key in a_key]\n",
    "print([a.key for a in A])\n",
    "direct_access_sort(A)\n",
    "print([a.key for a in A])"
   ]
  },
  {
   "cell_type": "markdown",
   "metadata": {},
   "source": [
    "## Counting Sort \n",
    "\n",
    "Conting sort solves the issue of not being able to sort lists with duplicate keys. To do so at each index in the direct access array another data structure is used to store the keys. This would help in the event of collisions arising from duplicate keys. For radix sort it is important that the order of the duplicate keys is the same for the output from sorting as it is for the input (i.e stable sorting). To do so a sequence data structure needs to be used at each index of the direct access array. In the implementation below a python list is used to do so. \n",
    "\n",
    "The rest of the operations involved in the sorting is the same as the direct access array. "
   ]
  },
  {
   "cell_type": "code",
   "execution_count": 3,
   "metadata": {},
   "outputs": [],
   "source": [
    "# %load -s counting_sort modules/linear_sort.py\n",
    "def counting_sort(A):\n",
    "    u=1+max([a.key for a in A]) #0(n)\n",
    "    D=[[] for _ in range(u)] #O(u)\n",
    "    for a in A: #O(n)\n",
    "        D[a.key].append(a)\n",
    "\n",
    "    i=0\n",
    "    for chain in D: #O(u)\n",
    "        for x in chain:\n",
    "            A[i]=x\n",
    "            i+=1\n"
   ]
  },
  {
   "cell_type": "code",
   "execution_count": 4,
   "metadata": {},
   "outputs": [
    {
     "name": "stdout",
     "output_type": "stream",
     "text": [
      "[2, 4, 9, 3, 9, 6, 12]\n",
      "[2, 3, 4, 6, 9, 9, 12]\n"
     ]
    }
   ],
   "source": [
    "a_key=[2,4,9,3,9,6,12]\n",
    "A=[type('Node', (object,), {'key': key}) for key in a_key]\n",
    "print([a.key for a in A])\n",
    "counting_sort(A)\n",
    "print([a.key for a in A])"
   ]
  },
  {
   "cell_type": "markdown",
   "metadata": {},
   "source": [
    "## Radix Sort\n",
    "The only con that exist from direct access sort mentioned above is the fact that the sorting is $O(u)$. In which $O(u)$ can be worser than $O(nlogn)$ if the space of keys is large, causing preference to the usage of merge sort instead. However, radix sorts exists to allow for a wider range of the key space $u$ while still maintaing a $O(n)$ time sorting algorithm. It does so by performing tuple sort with the counting sort algorithm. \n",
    "\n",
    "If for instance $O(u)=O(n^c)$ where $c$ is a constant, you can represent the keys as tuples with each elements of the tuple being the representation of $u$ in base $n$. Then the list can be sorted by performing tuples sort on the tuple from the least significant base to the most significant.\n",
    "\n",
    "\n",
    "Summary\n",
    "- As long as $O(u)=O(n^c)$ where $c$ is a constant, radix sort can sort items in $O(n)$ \n",
    "- It can handle repeated keys like counting sort\n",
    "- It can't handle negative keys but keys can be manupulated to do so. "
   ]
  },
  {
   "cell_type": "code",
   "execution_count": 5,
   "metadata": {},
   "outputs": [],
   "source": [
    "# %load -s radix_sort modules/linear_sort.py\n",
    "def radix_sort(A):\n",
    "    u = 1 + max([a.key for a in A])\n",
    "    n = len(A)\n",
    "    c = 1 + u.bit_length()//n.bit_length()\n",
    "\n",
    "    D=[]\n",
    "    class Obj: pass\n",
    "\n",
    "    for i in range(n): #O(cn)\n",
    "        D.append(Obj())\n",
    "        D[i].item=A[i]\n",
    "        D[i].digits=[]\n",
    "        high=A[i].key\n",
    "        for j in range(c):\n",
    "            high,low=divmod(high,n)\n",
    "            D[i].digits.append(low)\n",
    "    \n",
    "    for i in range(c): #O(cn)\n",
    "        for j in range(n):\n",
    "            D[j].key=D[j].digits[i]\n",
    "        counting_sort(D)\n",
    "    \n",
    "    for i,d in enumerate(D): #O(n)\n",
    "        A[i]=d.item \n",
    "\n",
    "    return A\n"
   ]
  },
  {
   "cell_type": "code",
   "execution_count": 6,
   "metadata": {},
   "outputs": [
    {
     "name": "stdout",
     "output_type": "stream",
     "text": [
      "[2, 4, 3, 1, 9, 14, 4, 9, 3, 6, 12]\n",
      "[1, 2, 3, 3, 4, 4, 6, 9, 9, 12, 14]\n"
     ]
    }
   ],
   "source": [
    "a_key=[2,4,3,1,9,14,4,9,3,6,12]\n",
    "A=[type('Node', (object,), {'key': key}) for key in a_key]\n",
    "print([a.key for a in A])\n",
    "radix_sort(A)\n",
    "print([a.key for a in A])"
   ]
  },
  {
   "cell_type": "markdown",
   "metadata": {},
   "source": [
    "# Promlem set 3\n",
    "\n",
    "## Problem 3-5 Anagram Archaelogy\n",
    "\n",
    "String A is an anagram of another string B if A is a permutation of the letters in B; for example,\n",
    "(indicatory, dictionary) and (brush, shrub) are pairs of words that are anagrams of\n",
    "each other. In this problem, all strings will be ASCII strings containing only the lowercase English\n",
    "letters a to z.\n",
    "\n",
    "Given two strings A and B, the anagram substring count of B in A is the number of contiguous\n",
    "substrings of A that are anagrams of B. For example, if A = ’esleastealaslatet’ and B =\n",
    "’tesla’, then, of the 13 contiguous substrings in A of length |B| = 5, exactly 3 of them are\n",
    "anagrams of B, namely (’least’, ’steal’, ’slate’), so the anagram substring count of\n",
    "B in A is 3. "
   ]
  },
  {
   "cell_type": "markdown",
   "metadata": {},
   "source": [
    "##### (a) Given string A and a positive integer k, describe a data structure that can be built in O(|A|) time, which will then support a single operation: given a different string B with |B| = k, return the anagram substring count of B in A in O(k) time. \n",
    "\n",
    "Acknowledging that all anagrams have the same frequency count of lower case characters the following algorithm is proposed:\n",
    "\n",
    "1) As you loop through $A$ build a frequency count of each character for the $n-k$ contiguous substrings, where $|A| = n$. Build a hashmap to keep track of the counts of each contiguous substring. Use the frequency count representation for each contiguous substring as keys for mapping with a hash map. $-> O(n)$\n",
    "2) Build a frequency count of each character for the string $B$. Using this frequency count index the hashmap to see if an anagram of string $B$ exists in $A$. If yes return the count stored in the hashmap, if no return zero. $-> O(k)$\n",
    "\n",
    "\n",
    "##### (b)  Given string T and an array of n length-k strings S = (S0, . . . , Sn−1) satisfying 0 < k < |T |, describe an O(|T | + nk)-time algorithm to return an array A = (a0, . . . , an−1) for which ai is the anagram substring count of Si in T for all i ∈ {0, . . . , n − 1}. \n",
    "\n",
    "Based on the answer to part a the following algorithm is proposed.\n",
    "\n",
    "1) As you loop through $T$ build a frequency count of each character for the $|T|-k$ contiguous substrings. Build a hashmap to keep track of the counts of each contiguous substring. Use the frequency count representation for each contiguous substring as keys for mapping with a hash map. $-> O(|T|)$\n",
    "\n",
    "2) For each string $S_{i}$  within $S$  build a frequency count of each character. Using this frequency count index the hashmap to see if an anagram of string $S_{i}$ exists in $T$. If yes append $A$ with the count stored in the hashmap, if append with zero. $-> O(nk)$\n",
    "\n",
    "##### (c)  Write a Python function count anagram substrings(T, S) that implements your algorithm from part (b). Note the built-in Python function ord(c) returns the ASCII integer corresponding to ASCII character c in O(1) time. \n",
    "\n",
    "```python\n",
    "def count_anagram_substrings(T, S):\n",
    "    '''\n",
    "    Input:  T | String\n",
    "            S | Tuple of strings S_i of equal length k < |T|\n",
    "    Output: A | Tuple of integers a_i:\n",
    "              | the anagram substring count of S_i in T\n",
    "    '''\n",
    "    A = []\n",
    "    ##################\n",
    "    char_index=lambda c: ord(c) - ord('a')\n",
    "    k = len(S[0])\n",
    "    anagram_dict = {}\n",
    "\n",
    "    #stores the running count of characters in the current substring of T\n",
    "    t_dict = [0 for _ in range(26)] \n",
    "    \n",
    "    for i,t in enumerate(T):\n",
    "        t_dict[char_index(t)]+=1\n",
    "\n",
    "        if i>=k-1:\n",
    "            if i>=k:\n",
    "                t_dict[char_index(T[i-k])]-=1\n",
    "            \n",
    "            key = tuple(t_dict)\n",
    "\n",
    "            if key in anagram_dict:\n",
    "                anagram_dict[key]+=1\n",
    "            else:\n",
    "                anagram_dict[key]=1\n",
    "\n",
    "    for S_i in S:\n",
    "        #stores the count of characters in the current Si substring\n",
    "        s_dict = [0 for _ in range(26)]\n",
    "        for s in S_i:\n",
    "            s_dict[char_index(s)]+=1\n",
    "        \n",
    "        key = tuple(s_dict)\n",
    "        if key in anagram_dict:\n",
    "            A.append(anagram_dict[tuple(s_dict)])\n",
    "        else:\n",
    "            A.append(0)\n",
    "    \n",
    "    ##################\n",
    "    return tuple(A)\n",
    "\n",
    "```\n",
    " "
   ]
  }
 ],
 "metadata": {
  "kernelspec": {
   "display_name": "base",
   "language": "python",
   "name": "python3"
  },
  "language_info": {
   "codemirror_mode": {
    "name": "ipython",
    "version": 3
   },
   "file_extension": ".py",
   "mimetype": "text/x-python",
   "name": "python",
   "nbconvert_exporter": "python",
   "pygments_lexer": "ipython3",
   "version": "3.10.4"
  }
 },
 "nbformat": 4,
 "nbformat_minor": 2
}
