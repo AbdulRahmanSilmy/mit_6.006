{
 "cells": [
  {
   "cell_type": "markdown",
   "metadata": {},
   "source": [
    "# Linear sorting"
   ]
  },
  {
   "cell_type": "markdown",
   "metadata": {},
   "source": [
    "All sorting utilizing the comparison model are lower bounded by O(nlog(n)). The direct access arrays have O(1) read and write times. Therefore by leveraging direct access arrays sorting can be performed in O(n). \n",
    "\n",
    "The rest of notebook goes through the developement of a sorting algorithm (radix sort) that achieves O(n) sorting performance. "
   ]
  },
  {
   "cell_type": "markdown",
   "metadata": {},
   "source": [
    "## Direct Access Sort\n",
    "\n",
    "This data structure requires unique keys. It instantiates a direct access array of length u. Where is the max range of values of the keys can take. The keys are taken from the set [0,u]. \n",
    "\n",
    "Fist a direct access array of length u needs to be instantiated costing O(u).\n",
    "\n",
    "Secondly, the items need to be inserted into the direct access array. Each insert operation run in constant time resulting in a total cost of O(n) to insert all items.\n",
    "\n",
    "Then the direct access array needs to be iterated through yeilding its stored value if present. This returns a sorted version of the list and runs in O(u).\n",
    "\n",
    "Cons:\n",
    "- The issues with direct access array is that it assumes unique keys, otherwise collision exists for the direct access array. \n",
    "- Moreover it works well only when u=O(n), otherwise sorting complexity is more than O(n) "
   ]
  },
  {
   "cell_type": "code",
   "execution_count": 1,
   "metadata": {},
   "outputs": [],
   "source": [
    "# %load -s direct_access_sort modules/linear_sort.py\n",
    "def direct_access_sort(A):\n",
    "    u=1+max([a.key for a in A]) #O(n)\n",
    "    D=[None]*u #O(u)\n",
    "    for a in A: #O(n)\n",
    "        D[a.key]=a\n",
    "    i=0\n",
    "    for d in D: #O(u)\n",
    "        if d is not None:\n",
    "            A[i]=d\n",
    "            i+=1\n"
   ]
  },
  {
   "cell_type": "code",
   "execution_count": 2,
   "metadata": {},
   "outputs": [
    {
     "name": "stdout",
     "output_type": "stream",
     "text": [
      "[2, 4, 9, 3, 6, 12]\n",
      "[2, 3, 4, 6, 9, 12]\n"
     ]
    }
   ],
   "source": [
    "a_key=[2,4,9,3,6,12]\n",
    "A=[type('Node', (object,), {'key': key}) for key in a_key]\n",
    "print([a.key for a in A])\n",
    "direct_access_sort(A)\n",
    "print([a.key for a in A])"
   ]
  },
  {
   "cell_type": "markdown",
   "metadata": {},
   "source": [
    "## Counting Sort \n",
    "\n",
    "Conting sort solves the issue of not being able to sort lists with duplicate keys. To do so at each index in the direct access array another data structure is used to store the keys. This would help in the event of collisions arising from duplicate keys. For radix sort it is important that the order of the duplicate keys is the same for the output from sorting as it is for the input (i.e stable sorting). To do so a sequence data structure needs to be used at each index of the direct access array. In the implementation below a python list is used to do so. \n",
    "\n",
    "The rest of the operations involved in the sorting is the same as the direct access array. "
   ]
  },
  {
   "cell_type": "code",
   "execution_count": 3,
   "metadata": {},
   "outputs": [],
   "source": [
    "# %load -s counting_sort modules/linear_sort.py\n",
    "def counting_sort(A):\n",
    "    u=1+max([a.key for a in A]) #0(n)\n",
    "    D=[[] for _ in range(u)] #O(u)\n",
    "    for a in A: #O(n)\n",
    "        D[a.key].append(a)\n",
    "\n",
    "    i=0\n",
    "    for chain in D: #O(u)\n",
    "        for x in chain:\n",
    "            A[i]=x\n",
    "            i+=1\n"
   ]
  },
  {
   "cell_type": "code",
   "execution_count": 4,
   "metadata": {},
   "outputs": [
    {
     "name": "stdout",
     "output_type": "stream",
     "text": [
      "[2, 4, 9, 3, 9, 6, 12]\n",
      "[2, 3, 4, 6, 9, 9, 12]\n"
     ]
    }
   ],
   "source": [
    "a_key=[2,4,9,3,9,6,12]\n",
    "A=[type('Node', (object,), {'key': key}) for key in a_key]\n",
    "print([a.key for a in A])\n",
    "counting_sort(A)\n",
    "print([a.key for a in A])"
   ]
  },
  {
   "cell_type": "markdown",
   "metadata": {},
   "source": [
    "## Radix Sort\n",
    "- As long as logn(u)=constant radix sort can sort items in linear time \n",
    "- It can handle repeated keys like counting sort"
   ]
  },
  {
   "cell_type": "code",
   "execution_count": 5,
   "metadata": {},
   "outputs": [],
   "source": [
    "# %load -s radix_sort modules/linear_sort.py\n",
    "def radix_sort(A):\n",
    "    u = 1 + max([a.key for a in A])\n",
    "    n = len(A)\n",
    "    c = 1 + u.bit_length()//n.bit_length()\n",
    "\n",
    "    D=[]\n",
    "    class Obj: pass\n",
    "\n",
    "    for i in range(n): #O(cn)\n",
    "        D.append(Obj())\n",
    "        D[i].item=A[i]\n",
    "        D[i].digits=[]\n",
    "        high=A[i].key\n",
    "        for j in range(c):\n",
    "            high,low=divmod(high,n)\n",
    "            D[i].digits.append(low)\n",
    "    \n",
    "    for i in range(c): #O(cn)\n",
    "        for j in range(n):\n",
    "            D[j].key=D[j].digits[i]\n",
    "        counting_sort(D)\n",
    "    \n",
    "    for i,d in enumerate(D): #O(n)\n",
    "        A[i]=d.item \n",
    "\n",
    "    return A\n"
   ]
  },
  {
   "cell_type": "code",
   "execution_count": 6,
   "metadata": {},
   "outputs": [
    {
     "name": "stdout",
     "output_type": "stream",
     "text": [
      "[2, 4, 3, 1, 9, 14, 4, 9, 3, 6, 12]\n",
      "[1, 2, 3, 3, 4, 4, 6, 9, 9, 12, 14]\n"
     ]
    }
   ],
   "source": [
    "a_key=[2,4,3,1,9,14,4,9,3,6,12]\n",
    "A=[type('Node', (object,), {'key': key}) for key in a_key]\n",
    "print([a.key for a in A])\n",
    "radix_sort(A)\n",
    "print([a.key for a in A])"
   ]
  }
 ],
 "metadata": {
  "kernelspec": {
   "display_name": "base",
   "language": "python",
   "name": "python3"
  },
  "language_info": {
   "codemirror_mode": {
    "name": "ipython",
    "version": 3
   },
   "file_extension": ".py",
   "mimetype": "text/x-python",
   "name": "python",
   "nbconvert_exporter": "python",
   "pygments_lexer": "ipython3",
   "version": "3.11.6"
  }
 },
 "nbformat": 4,
 "nbformat_minor": 2
}
