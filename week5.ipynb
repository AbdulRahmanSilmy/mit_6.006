{
 "cells": [
  {
   "cell_type": "markdown",
   "metadata": {},
   "source": [
    "# Priority Queues "
   ]
  },
  {
   "cell_type": "markdown",
   "metadata": {},
   "source": [
    "### The parent class for priority queues"
   ]
  },
  {
   "cell_type": "code",
   "execution_count": 1,
   "metadata": {},
   "outputs": [],
   "source": [
    "from abc import ABC, abstractmethod\n",
    "\n",
    "class PriorityQueue(ABC):\n",
    "    \"\"\"A parent class for priority queues\n",
    "    \"\"\"\n",
    "    def __init__(self):\n",
    "        self.A = []\n",
    "\n",
    "    @abstractmethod\n",
    "    def insert(self,x):\n",
    "        self.A.append(x)\n",
    "\n",
    "    @abstractmethod\n",
    "    def delete_max(self):\n",
    "        if len(self.A)<1:\n",
    "            raise IndexError('pop from empty priority queue')\n",
    "        return self.A.pop()\n",
    "\n",
    "    @classmethod\n",
    "    def sort(Queue, A):\n",
    "        pq = Queue()\n",
    "        for x in A:\n",
    "            pq.insert(x)\n",
    "        sorted_list=[pq.delete_max() for _ in A]\n",
    "        sorted_list.reverse()\n",
    "        return sorted_list"
   ]
  },
  {
   "cell_type": "markdown",
   "metadata": {},
   "source": [
    "### Priority Queue implementation with array \n",
    "\n",
    "This implementation is an alternative way of expressing selection sort"
   ]
  },
  {
   "cell_type": "code",
   "execution_count": 25,
   "metadata": {},
   "outputs": [
    {
     "data": {
      "text/plain": [
       "[1, 2]"
      ]
     },
     "execution_count": 25,
     "metadata": {},
     "output_type": "execute_result"
    }
   ],
   "source": [
    "A = [1,2,3]\n",
    "A.pop()\n",
    "A"
   ]
  },
  {
   "cell_type": "code",
   "execution_count": 2,
   "metadata": {},
   "outputs": [],
   "source": [
    "class PQ_Array(PriorityQueue):\n",
    "\n",
    "    def insert(self,x):\n",
    "        super().insert(x)\n",
    "\n",
    "    def delete_max(self):\n",
    "        max_index, max_value = 0, self.A[0]\n",
    "\n",
    "        for i,x in enumerate(self.A[1:],1):\n",
    "            if x>max_value:\n",
    "                max_value=x\n",
    "                max_index=i\n",
    "\n",
    "        self.A[-1],self.A[max_index]=self.A[max_index],self.A[-1]\n",
    "\n",
    "        return super().delete_max()"
   ]
  },
  {
   "cell_type": "markdown",
   "metadata": {},
   "source": [
    "### Priority Queue implementation with sorted array \n",
    "\n",
    "This implementation is an alternative way of expressing insertion sort"
   ]
  },
  {
   "cell_type": "code",
   "execution_count": 3,
   "metadata": {},
   "outputs": [],
   "source": [
    "class PQ_SortedArray(PriorityQueue):\n",
    "\n",
    "    def insert(self,x):\n",
    "        super().insert(x)\n",
    "\n",
    "        i = len(self.A) - 1\n",
    "\n",
    "        while i>0 and self.A[i]<self.A[i-1]:\n",
    "            self.A[i], self.A[i-1] = self.A[i-1], self.A[i]\n",
    "            i -= 1     \n",
    "\n",
    "    def delete_max(self):\n",
    "        return super().delete_max()   "
   ]
  },
  {
   "cell_type": "markdown",
   "metadata": {},
   "source": [
    "### Priority Queue implementation with Binary Heaps \n",
    "This implementation takes advantage of complete binary tree's logarithmic height to improve performance."
   ]
  },
  {
   "cell_type": "code",
   "execution_count": 30,
   "metadata": {},
   "outputs": [],
   "source": [
    "class PQ_Heap(PriorityQueue):\n",
    "\n",
    "    def insert(self,x):\n",
    "        super().insert(x)\n",
    "        i = len(self.A) - 1 \n",
    "        self.max_heapify_up(i)\n",
    "\n",
    "    def delete_max(self):\n",
    "        A = self.A\n",
    "        A[0], A[-1] = A[-1], A[0]\n",
    "\n",
    "        max_val = super().delete_max()\n",
    "\n",
    "        if self.A:\n",
    "            self.max_heapify_down(0)\n",
    "        \n",
    "        return max_val\n",
    "\n",
    "    @staticmethod\n",
    "    def parent(i):\n",
    "        p = (i - 1)//2\n",
    "        return p if 0 < i else i \n",
    "\n",
    "    @staticmethod\n",
    "    def left(i,n):\n",
    "        l = 2*i + 1\n",
    "        return l if l < n else i\n",
    "\n",
    "    @staticmethod\n",
    "    def right(i,n):\n",
    "        r = 2*i + 2\n",
    "        return r if r < n else i\n",
    "\n",
    "    def max_heapify_up(self,i):\n",
    "        p = self.parent(i)\n",
    "        A = self.A\n",
    "        if A[p] < A[i]:\n",
    "            A[p], A[i] = A[i], A[p]\n",
    "            self.max_heapify_up(p)\n",
    "\n",
    "    def max_heapify_down(self,i):\n",
    "        A = self.A\n",
    "        n = len(A) \n",
    "        l = self.left(i,n)\n",
    "        r = self.right(i,n)\n",
    "\n",
    "        max_child_index = max([l,r], key=lambda x: A[x])\n",
    "\n",
    "        if A[max_child_index]>A[i]:\n",
    "            A[max_child_index], A[i] = A[i], A[max_child_index]\n",
    "            self.max_heapify_down(max_child_index)"
   ]
  },
  {
   "cell_type": "code",
   "execution_count": 31,
   "metadata": {},
   "outputs": [
    {
     "data": {
      "text/plain": [
       "[5, 34, 54, 67, 76, 345, 564]"
      ]
     },
     "execution_count": 31,
     "metadata": {},
     "output_type": "execute_result"
    }
   ],
   "source": [
    "A=[54,345,564,34,5,76,67]\n",
    "sorted1=PQ_Heap().sort(A)\n",
    "sorted1"
   ]
  },
  {
   "cell_type": "code",
   "execution_count": 24,
   "metadata": {},
   "outputs": [
    {
     "data": {
      "text/plain": [
       "[5, 34, 54, 67, 76, 345, 564]"
      ]
     },
     "execution_count": 24,
     "metadata": {},
     "output_type": "execute_result"
    }
   ],
   "source": [
    "A=[54,345,564,34,5,76,67]\n",
    "sorted1=PQ_SortedArray().sort(A)\n",
    "sorted1"
   ]
  },
  {
   "cell_type": "markdown",
   "metadata": {},
   "source": [
    "# To-do \n",
    "- Finish build function and inplace heaps"
   ]
  }
 ],
 "metadata": {
  "kernelspec": {
   "display_name": "base",
   "language": "python",
   "name": "python3"
  },
  "language_info": {
   "codemirror_mode": {
    "name": "ipython",
    "version": 3
   },
   "file_extension": ".py",
   "mimetype": "text/x-python",
   "name": "python",
   "nbconvert_exporter": "python",
   "pygments_lexer": "ipython3",
   "version": "3.11.7"
  }
 },
 "nbformat": 4,
 "nbformat_minor": 2
}
