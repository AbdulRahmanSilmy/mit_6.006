{
 "cells": [
  {
   "cell_type": "markdown",
   "metadata": {},
   "source": [
    "# Priority Queues "
   ]
  },
  {
   "cell_type": "markdown",
   "metadata": {},
   "source": [
    "### The parent class for priority queues"
   ]
  },
  {
   "cell_type": "code",
   "execution_count": 5,
   "metadata": {},
   "outputs": [],
   "source": [
    "from abc import ABC, abstractmethod\n",
    "\n",
    "class PriorityQueue(ABC):\n",
    "    \"\"\"A parent class for priority queues\n",
    "    \"\"\"\n",
    "    def __init__(self):\n",
    "        self.A = []\n",
    "\n",
    "    @abstractmethod\n",
    "    def insert(self,x):\n",
    "        self.A.append(x)\n",
    "\n",
    "    @abstractmethod\n",
    "    def delete_max(self):\n",
    "        if len(self.A)<1:\n",
    "            raise IndexError('pop from empty priority queue')\n",
    "        return self.A.pop()\n",
    "\n",
    "    @classmethod\n",
    "    def sort(Queue, A):\n",
    "        pq = Queue()\n",
    "        for x in A:\n",
    "            pq.insert(x)\n",
    "        sorted_list=[pq.delete_max() for _ in A]\n",
    "        sorted_list.reverse()\n",
    "        return sorted_list"
   ]
  },
  {
   "cell_type": "markdown",
   "metadata": {},
   "source": [
    "### Priority Queue implementation with array \n",
    "\n",
    "This implementation is an alternative way of expressing selection sort"
   ]
  },
  {
   "cell_type": "code",
   "execution_count": 27,
   "metadata": {},
   "outputs": [],
   "source": [
    "class PQ_Array(PriorityQueue):\n",
    "\n",
    "    def insert(self,x):\n",
    "        super().insert(x)\n",
    "\n",
    "    def delete_max(self):\n",
    "        max_index, max_value = 0, self.A[0]\n",
    "\n",
    "        for i,x in enumerate(self.A[1:],1):\n",
    "            if x>max_value:\n",
    "                max_value=x\n",
    "                max_index=i\n",
    "\n",
    "        self.A[-1],self.A[max_index]=self.A[max_index],self.A[-1]\n",
    "\n",
    "        return super().delete_max()"
   ]
  },
  {
   "cell_type": "markdown",
   "metadata": {},
   "source": [
    "### Priority Queue implementation with sorted array \n",
    "\n",
    "This implementation is an alternative way of expressing insertion sort"
   ]
  },
  {
   "cell_type": "code",
   "execution_count": 20,
   "metadata": {},
   "outputs": [],
   "source": [
    "class PQ_SortedArray(PriorityQueue):\n",
    "\n",
    "    def insert(self,x):\n",
    "        super().insert(x)\n",
    "\n",
    "        i = len(self.A) - 1\n",
    "\n",
    "        while i>0 and self.A[i]<self.A[i-1]:\n",
    "            self.A[i], self.A[i-1] = self.A[i-1], self.A[i]\n",
    "            i -= 1     \n",
    "\n",
    "    def delete_max(self):\n",
    "        return super().delete_max()   "
   ]
  },
  {
   "cell_type": "markdown",
   "metadata": {},
   "source": [
    "### Priority Queue implementation with Binary Heaps \n",
    "This implementation takes advantage of complete binary tree's logarithmic height to improve performance."
   ]
  },
  {
   "cell_type": "code",
   "execution_count": 51,
   "metadata": {},
   "outputs": [],
   "source": [
    "class PQ_Heap(PriorityQueue):\n",
    "\n",
    "    def insert(self,x):\n",
    "        super().insert(x)\n",
    "        i = len(self.A) - 1 \n",
    "        self.max_heapify_up(i)\n",
    "\n",
    "    def delete_max(self):\n",
    "        A = self.A\n",
    "        A[0], A[-1] = A[-1], A[0]\n",
    "        super().delete_max()\n",
    "        self.max_heapify_down(0)\n",
    "\n",
    "    @staticmethod\n",
    "    def parent(i):\n",
    "        p = (i - 1)//2\n",
    "        return p if 0 < i else i \n",
    "\n",
    "    @staticmethod\n",
    "    def left(i,n):\n",
    "        l = 2*i + 1\n",
    "        return l if l < n else i\n",
    "\n",
    "    @staticmethod\n",
    "    def right(i,n):\n",
    "        r = 2*i + 2\n",
    "        return r if r < n else i\n",
    "\n",
    "    def max_heapify_up(self,i):\n",
    "        p = self.parent(i)\n",
    "        A = self.A\n",
    "        if A[p] < A[i]:\n",
    "            A[p], A[i] = A[i], A[p]\n",
    "            self.max_heapify_up(p)\n",
    "\n",
    "    def max_heapify_down(self,i):\n",
    "        A = self.A\n",
    "        n = len(A) - 1 \n",
    "        l = self.left(i,n)\n",
    "        r = self.right(i,n)\n",
    "\n",
    "        max_child_index = max([l,r], key=lambda x: A[x])\n",
    "\n",
    "        if A[max_child_index]>A[i]:\n",
    "            A[max_child_index], A[i] = A[i], A[max_child_index]\n",
    "            self.max_heapify_down(max_child_index)"
   ]
  },
  {
   "cell_type": "code",
   "execution_count": 52,
   "metadata": {},
   "outputs": [
    {
     "ename": "IndexError",
     "evalue": "list index out of range",
     "output_type": "error",
     "traceback": [
      "\u001b[1;31m---------------------------------------------------------------------------\u001b[0m",
      "\u001b[1;31mIndexError\u001b[0m                                Traceback (most recent call last)",
      "Cell \u001b[1;32mIn[52], line 2\u001b[0m\n\u001b[0;32m      1\u001b[0m A\u001b[38;5;241m=\u001b[39m[\u001b[38;5;241m54\u001b[39m,\u001b[38;5;241m345\u001b[39m,\u001b[38;5;241m564\u001b[39m,\u001b[38;5;241m34\u001b[39m,\u001b[38;5;241m5\u001b[39m,\u001b[38;5;241m76\u001b[39m,\u001b[38;5;241m67\u001b[39m]\n\u001b[1;32m----> 2\u001b[0m sorted1\u001b[38;5;241m=\u001b[39mPQ_Heap()\u001b[38;5;241m.\u001b[39msort(A)\n\u001b[0;32m      3\u001b[0m sorted1\n",
      "Cell \u001b[1;32mIn[5], line 24\u001b[0m, in \u001b[0;36mPriorityQueue.sort\u001b[1;34m(Queue, A)\u001b[0m\n\u001b[0;32m     22\u001b[0m \u001b[38;5;28;01mfor\u001b[39;00m x \u001b[38;5;129;01min\u001b[39;00m A:\n\u001b[0;32m     23\u001b[0m     pq\u001b[38;5;241m.\u001b[39minsert(x)\n\u001b[1;32m---> 24\u001b[0m sorted_list\u001b[38;5;241m=\u001b[39m[pq\u001b[38;5;241m.\u001b[39mdelete_max() \u001b[38;5;28;01mfor\u001b[39;00m _ \u001b[38;5;129;01min\u001b[39;00m A]\n\u001b[0;32m     25\u001b[0m sorted_list\u001b[38;5;241m.\u001b[39mreverse()\n\u001b[0;32m     26\u001b[0m \u001b[38;5;28;01mreturn\u001b[39;00m sorted_list\n",
      "Cell \u001b[1;32mIn[5], line 24\u001b[0m, in \u001b[0;36m<listcomp>\u001b[1;34m(.0)\u001b[0m\n\u001b[0;32m     22\u001b[0m \u001b[38;5;28;01mfor\u001b[39;00m x \u001b[38;5;129;01min\u001b[39;00m A:\n\u001b[0;32m     23\u001b[0m     pq\u001b[38;5;241m.\u001b[39minsert(x)\n\u001b[1;32m---> 24\u001b[0m sorted_list\u001b[38;5;241m=\u001b[39m[pq\u001b[38;5;241m.\u001b[39mdelete_max() \u001b[38;5;28;01mfor\u001b[39;00m _ \u001b[38;5;129;01min\u001b[39;00m A]\n\u001b[0;32m     25\u001b[0m sorted_list\u001b[38;5;241m.\u001b[39mreverse()\n\u001b[0;32m     26\u001b[0m \u001b[38;5;28;01mreturn\u001b[39;00m sorted_list\n",
      "Cell \u001b[1;32mIn[51], line 12\u001b[0m, in \u001b[0;36mPQ_Heap.delete_max\u001b[1;34m(self)\u001b[0m\n\u001b[0;32m     10\u001b[0m A[\u001b[38;5;241m0\u001b[39m], A[\u001b[38;5;241m-\u001b[39m\u001b[38;5;241m1\u001b[39m] \u001b[38;5;241m=\u001b[39m A[\u001b[38;5;241m-\u001b[39m\u001b[38;5;241m1\u001b[39m], A[\u001b[38;5;241m0\u001b[39m]\n\u001b[0;32m     11\u001b[0m \u001b[38;5;28msuper\u001b[39m()\u001b[38;5;241m.\u001b[39mdelete_max()\n\u001b[1;32m---> 12\u001b[0m \u001b[38;5;28mself\u001b[39m\u001b[38;5;241m.\u001b[39mmax_heapify_down(\u001b[38;5;241m0\u001b[39m)\n",
      "Cell \u001b[1;32mIn[51], line 43\u001b[0m, in \u001b[0;36mPQ_Heap.max_heapify_down\u001b[1;34m(self, i)\u001b[0m\n\u001b[0;32m     39\u001b[0m l \u001b[38;5;241m=\u001b[39m \u001b[38;5;28mself\u001b[39m\u001b[38;5;241m.\u001b[39mleft(i,n)\n\u001b[0;32m     40\u001b[0m r \u001b[38;5;241m=\u001b[39m \u001b[38;5;28mself\u001b[39m\u001b[38;5;241m.\u001b[39mright(i,n)\n\u001b[1;32m---> 43\u001b[0m max_child_index \u001b[38;5;241m=\u001b[39m \u001b[38;5;28mmax\u001b[39m([l,r], key\u001b[38;5;241m=\u001b[39m\u001b[38;5;28;01mlambda\u001b[39;00m x: A[x])\n\u001b[0;32m     45\u001b[0m \u001b[38;5;28;01mif\u001b[39;00m A[max_child_index]\u001b[38;5;241m>\u001b[39mA[i]:\n\u001b[0;32m     46\u001b[0m     A[max_child_index], A[i] \u001b[38;5;241m=\u001b[39m A[i], A[max_child_index]\n",
      "Cell \u001b[1;32mIn[51], line 43\u001b[0m, in \u001b[0;36mPQ_Heap.max_heapify_down.<locals>.<lambda>\u001b[1;34m(x)\u001b[0m\n\u001b[0;32m     39\u001b[0m l \u001b[38;5;241m=\u001b[39m \u001b[38;5;28mself\u001b[39m\u001b[38;5;241m.\u001b[39mleft(i,n)\n\u001b[0;32m     40\u001b[0m r \u001b[38;5;241m=\u001b[39m \u001b[38;5;28mself\u001b[39m\u001b[38;5;241m.\u001b[39mright(i,n)\n\u001b[1;32m---> 43\u001b[0m max_child_index \u001b[38;5;241m=\u001b[39m \u001b[38;5;28mmax\u001b[39m([l,r], key\u001b[38;5;241m=\u001b[39m\u001b[38;5;28;01mlambda\u001b[39;00m x: A[x])\n\u001b[0;32m     45\u001b[0m \u001b[38;5;28;01mif\u001b[39;00m A[max_child_index]\u001b[38;5;241m>\u001b[39mA[i]:\n\u001b[0;32m     46\u001b[0m     A[max_child_index], A[i] \u001b[38;5;241m=\u001b[39m A[i], A[max_child_index]\n",
      "\u001b[1;31mIndexError\u001b[0m: list index out of range"
     ]
    }
   ],
   "source": [
    "A=[54,345,564,34,5,76,67]\n",
    "sorted1=PQ_Heap().sort(A)\n",
    "sorted1"
   ]
  },
  {
   "cell_type": "code",
   "execution_count": 24,
   "metadata": {},
   "outputs": [
    {
     "data": {
      "text/plain": [
       "[5, 34, 54, 67, 76, 345, 564]"
      ]
     },
     "execution_count": 24,
     "metadata": {},
     "output_type": "execute_result"
    }
   ],
   "source": [
    "A=[54,345,564,34,5,76,67]\n",
    "sorted1=PQ_SortedArray().sort(A)\n",
    "sorted1"
   ]
  },
  {
   "cell_type": "markdown",
   "metadata": {},
   "source": [
    "# To-do \n",
    "- Fix sorting issue with PQ_Heap\n",
    "- Finish build function and inplace heaps"
   ]
  }
 ],
 "metadata": {
  "kernelspec": {
   "display_name": "base",
   "language": "python",
   "name": "python3"
  },
  "language_info": {
   "codemirror_mode": {
    "name": "ipython",
    "version": 3
   },
   "file_extension": ".py",
   "mimetype": "text/x-python",
   "name": "python",
   "nbconvert_exporter": "python",
   "pygments_lexer": "ipython3",
   "version": "3.11.7"
  }
 },
 "nbformat": 4,
 "nbformat_minor": 2
}
