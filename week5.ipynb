{
 "cells": [
  {
   "cell_type": "markdown",
   "metadata": {},
   "source": [
    "# Priority Queues "
   ]
  },
  {
   "cell_type": "markdown",
   "metadata": {},
   "source": [
    "### The parent class for priority queues"
   ]
  },
  {
   "cell_type": "code",
   "execution_count": 1,
   "metadata": {},
   "outputs": [],
   "source": [
    "from abc import ABC, abstractmethod\n",
    "\n",
    "class PriorityQueue(ABC):\n",
    "    \"\"\"\n",
    "    A parent class for priority queues. It performs sorting inplace. \n",
    "    \"\"\"\n",
    "    def __init__(self,A):\n",
    "        self.A = A\n",
    "        self.n = 0\n",
    "\n",
    "    @abstractmethod\n",
    "    def insert(self):\n",
    "        if self.n+1 > len(self.A):\n",
    "            raise IndexError('Inserting into a full queue')\n",
    "        \n",
    "        self.n += 1\n",
    "\n",
    "    \n",
    "    @abstractmethod\n",
    "    def delete_max(self):\n",
    "\n",
    "        if self.n-1<0:\n",
    "            raise IndexError('Popping from an empty queue')\n",
    "        \n",
    "        self.n -= 1 \n",
    "\n",
    "    @classmethod\n",
    "    def sort(Queue, A):\n",
    "        pq = Queue(A)\n",
    "        for _ in A:\n",
    "            pq.insert()\n",
    "\n",
    "        for _ in A:\n",
    "            pq.delete_max()\n",
    "\n",
    "        return pq.A"
   ]
  },
  {
   "cell_type": "markdown",
   "metadata": {},
   "source": [
    "### Priority Queue implementation with array \n",
    "\n",
    "This implementation is an alternative way of expressing selection sort"
   ]
  },
  {
   "cell_type": "code",
   "execution_count": 2,
   "metadata": {},
   "outputs": [],
   "source": [
    "class PQ_Array(PriorityQueue):\n",
    "\n",
    "    def insert(self,*args):\n",
    "        super().insert(*args)\n",
    "\n",
    "    def delete_max(self):\n",
    "        max_index, max_value = 0, self.A[0]\n",
    "        n = self.n\n",
    "\n",
    "        for i,x in enumerate(self.A[1:n],1):\n",
    "            if x>max_value:\n",
    "                max_value=x\n",
    "                max_index=i\n",
    "\n",
    "        self.A[n-1],self.A[max_index]=self.A[max_index],self.A[n-1]\n",
    "\n",
    "        return super().delete_max()"
   ]
  },
  {
   "cell_type": "markdown",
   "metadata": {},
   "source": [
    "### Priority Queue implementation with sorted array \n",
    "\n",
    "This implementation is an alternative way of expressing insertion sort"
   ]
  },
  {
   "cell_type": "code",
   "execution_count": 3,
   "metadata": {},
   "outputs": [],
   "source": [
    "class PQ_SortedArray(PriorityQueue):\n",
    "\n",
    "    def insert(self,*args):\n",
    "        super().insert(*args)\n",
    "\n",
    "        i = self.n - 1\n",
    "\n",
    "        while i>0 and self.A[i]<self.A[i-1]:\n",
    "            self.A[i], self.A[i-1] = self.A[i-1], self.A[i]\n",
    "            i -= 1     \n",
    "\n",
    "    def delete_max(self):\n",
    "        return super().delete_max()   "
   ]
  },
  {
   "cell_type": "markdown",
   "metadata": {},
   "source": [
    "### Priority Queue implementation with Binary Heaps \n",
    "This implementation takes advantage of complete binary tree's logarithmic height to improve performance."
   ]
  },
  {
   "cell_type": "code",
   "execution_count": 4,
   "metadata": {},
   "outputs": [],
   "source": [
    "class PQ_Heap(PriorityQueue):\n",
    "\n",
    "    def insert(self, *arg):\n",
    "        super().insert(*arg)\n",
    "        i = self.n - 1 \n",
    "        self.max_heapify_up(i)\n",
    "\n",
    "    def delete_max(self):\n",
    "        A = self.A\n",
    "        n = self.n -1\n",
    "        A[0], A[n] = A[n], A[0]\n",
    "\n",
    "        max_val = super().delete_max()\n",
    "\n",
    "        if self.n:\n",
    "            self.max_heapify_down(0)\n",
    "        \n",
    "        return max_val\n",
    "\n",
    "    @staticmethod\n",
    "    def parent(i):\n",
    "        p = (i - 1)//2\n",
    "        return p if 0 < i else i \n",
    "\n",
    "    def left(self,i):\n",
    "        l = 2*i + 1\n",
    "        return l if l < self.n else i\n",
    "\n",
    "    def right(self,i):\n",
    "        r = 2*i + 2\n",
    "        return r if r < self.n else i\n",
    "\n",
    "    def max_heapify_up(self,i):\n",
    "        p = self.parent(i)\n",
    "        A = self.A\n",
    "        if A[p] < A[i]:\n",
    "            A[p], A[i] = A[i], A[p]\n",
    "            self.max_heapify_up(p)\n",
    "\n",
    "    def max_heapify_down(self,i):\n",
    "        A = self.A\n",
    "        l = self.left(i)\n",
    "        r = self.right(i)\n",
    "\n",
    "        max_child_index = max([l,r], key=lambda x: A[x])\n",
    "\n",
    "        if A[max_child_index]>A[i]:\n",
    "            A[max_child_index], A[i] = A[i], A[max_child_index]\n",
    "            self.max_heapify_down(max_child_index)\n",
    "\n",
    "    def build_max_heap(self):\n",
    "        A = self.A\n",
    "        self.n = len(A)\n",
    "        for i in range(len(A)//2, -1 , -1):\n",
    "            self.max_heapify_down(i)"
   ]
  },
  {
   "cell_type": "markdown",
   "metadata": {},
   "source": [
    "### Testing code "
   ]
  },
  {
   "cell_type": "code",
   "execution_count": 5,
   "metadata": {},
   "outputs": [
    {
     "data": {
      "text/plain": [
       "[5, 34, 54, 67, 76, 345, 564]"
      ]
     },
     "execution_count": 5,
     "metadata": {},
     "output_type": "execute_result"
    }
   ],
   "source": [
    "A=[54,345,564,34,5,76,67]\n",
    "sorted1=PQ_Heap.sort(A)\n",
    "sorted1"
   ]
  },
  {
   "cell_type": "code",
   "execution_count": 6,
   "metadata": {},
   "outputs": [
    {
     "data": {
      "text/plain": [
       "[5, 34, 54, 67, 76, 345, 564]"
      ]
     },
     "execution_count": 6,
     "metadata": {},
     "output_type": "execute_result"
    }
   ],
   "source": [
    "A=[54,345,564,34,5,76,67]\n",
    "sorted1=PQ_SortedArray.sort(A)\n",
    "sorted1"
   ]
  },
  {
   "cell_type": "code",
   "execution_count": 7,
   "metadata": {},
   "outputs": [
    {
     "data": {
      "text/plain": [
       "[5, 34, 54, 67, 76, 345, 564]"
      ]
     },
     "execution_count": 7,
     "metadata": {},
     "output_type": "execute_result"
    }
   ],
   "source": [
    "A=[54,345,564,34,5,76,67]\n",
    "sorted1=PQ_Array.sort(A)\n",
    "sorted1"
   ]
  },
  {
   "cell_type": "code",
   "execution_count": 8,
   "metadata": {},
   "outputs": [
    {
     "data": {
      "text/plain": [
       "[5, 34, 54, 67, 76, 345, 564]"
      ]
     },
     "execution_count": 8,
     "metadata": {},
     "output_type": "execute_result"
    }
   ],
   "source": [
    "A=[54,345,564,34,5,76,67]\n",
    "\n",
    "max_heap=PQ_Heap(A)\n",
    "max_heap.build_max_heap()\n",
    "\n",
    "for _ in A:\n",
    "    max_heap.delete_max()\n",
    "\n",
    "max_heap.A"
   ]
  }
 ],
 "metadata": {
  "kernelspec": {
   "display_name": "base",
   "language": "python",
   "name": "python3"
  },
  "language_info": {
   "codemirror_mode": {
    "name": "ipython",
    "version": 3
   },
   "file_extension": ".py",
   "mimetype": "text/x-python",
   "name": "python",
   "nbconvert_exporter": "python",
   "pygments_lexer": "ipython3",
   "version": "3.11.7"
  }
 },
 "nbformat": 4,
 "nbformat_minor": 2
}
