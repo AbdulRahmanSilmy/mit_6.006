{
 "cells": [
  {
   "cell_type": "markdown",
   "metadata": {},
   "source": [
    "# Topic covered\n",
    "\n",
    "- static array \n",
    "- array seq "
   ]
  },
  {
   "cell_type": "code",
   "execution_count": 174,
   "metadata": {},
   "outputs": [],
   "source": [
    "from modules.arrays import StaticArray,ArraySequence\n",
    "import inspect"
   ]
  },
  {
   "cell_type": "markdown",
   "metadata": {},
   "source": [
    "## Static array \n",
    "\n",
    "API Requirements:\n",
    "- StaticArray(n): allocate a new static array of size n initialized to 0 in Θ(n) time\n",
    "- StaticArray.get at(i): return the word stored at array index i in Θ(1) time\n",
    "- StaticArray.set at(i, x): write the word x to array index i in Θ(1) time "
   ]
  },
  {
   "cell_type": "code",
   "execution_count": 182,
   "metadata": {},
   "outputs": [],
   "source": [
    "# %load -s StaticArray modules/arrays.py\n",
    "class StaticArray():\n",
    "    def __init__(self,size):\n",
    "        self.array=[None]*size\n",
    "        self.size=size\n",
    "\n",
    "    def __check_index__(self,i):\n",
    "        if not (i>=0 and i<=(self.size-1)):\n",
    "            raise IndexError('StaticArray index out of range')\n",
    "\n",
    "    def get_at(self,i):\n",
    "        self.__check_index__(i)\n",
    "        return self.array[i]\n",
    "        \n",
    "    def set_at(self,i,x):\n",
    "        self.__check_index__(i)\n",
    "        self.array[i]=x\n"
   ]
  },
  {
   "cell_type": "markdown",
   "metadata": {},
   "source": [
    "## Sequence data structure Implementations\n",
    "\n",
    "### API Requirements\n",
    "\n",
    "- build(X)\n",
    "- get_at(i) -> x\n",
    "- set_at(i,x)\n",
    "- insert_first(x)\n",
    "- delete_first() -> x\n",
    "- insert_last(x)\n",
    "- delete_last() -> x\n",
    "- insert_at(i,x)\n",
    "- delete_at(i) -> x"
   ]
  },
  {
   "cell_type": "markdown",
   "metadata": {},
   "source": [
    "### ArraySequence\n",
    "\n",
    "The main problem with this array sequence is that all insert and delete operations take O(n) time!!\n",
    "\n",
    "Next a dynamic array sequence will be developed to reduce the compute cost of insert and delete operations."
   ]
  },
  {
   "cell_type": "code",
   "execution_count": 183,
   "metadata": {},
   "outputs": [],
   "source": [
    "# %load -s ArraySequence modules/arrays.py\n",
    "class ArraySequence(StaticArray):\n",
    "\n",
    "    def __init__(self): #O(1)\n",
    "        super().__init__(0)\n",
    "\n",
    "    def __move_items__(self, from_index, to_index,step): #0(n)\n",
    "        \n",
    "        if step==1:\n",
    "            start = to_index\n",
    "            end = from_index-1\n",
    "        else:\n",
    "            start = from_index\n",
    "            end = to_index+1\n",
    "\n",
    "        for copy_index in range(start, end, -step):\n",
    "            paste_index = copy_index + step\n",
    "            self.set_at(paste_index, self.get_at(copy_index))\n",
    "        \n",
    "    def build(self,X): #O(n)\n",
    "        super().__init__(len(X)) \n",
    "        for i,x in enumerate(X): \n",
    "            self.set_at(i,x) \n",
    "\n",
    "    def insert_at(self,i,x): #O(n)\n",
    "        array_copy=self.array.copy()\n",
    "        array_copy.append(None)\n",
    "        self.build(array_copy)\n",
    "        self.__move_items__(i,self.size-2,1)\n",
    "        self.set_at(i,x)\n",
    "\n",
    "    def delete_at(self,i): #O(n)\n",
    "        del_val=self.get_at(i)\n",
    "        self.__move_items__(i+1,self.size-1,-1)\n",
    "        array_copy=self.array.copy()[:-1]\n",
    "        self.build(array_copy)\n",
    "        return del_val\n",
    "        \n",
    "    def insert_first(self,x): self.insert_at(0,x) #O(n)\n",
    "    def delete_first(self): return self.delete_at(0) #O(n)\n",
    "    def insert_last(self,x): self.insert_at(self.size-1,x) #O(n)\n",
    "    def delete_last(self): return self.delete_at(self.size-1) #O(n)\n"
   ]
  },
  {
   "cell_type": "markdown",
   "metadata": {},
   "source": [
    "#### Sample cases"
   ]
  },
  {
   "cell_type": "code",
   "execution_count": 160,
   "metadata": {},
   "outputs": [
    {
     "data": {
      "text/plain": [
       "[1, 2, 3, 4]"
      ]
     },
     "execution_count": 160,
     "metadata": {},
     "output_type": "execute_result"
    }
   ],
   "source": [
    "as1=ArraySequence()\n",
    "as1.build([1,2,3,4])\n",
    "as1.array"
   ]
  },
  {
   "cell_type": "code",
   "execution_count": 161,
   "metadata": {},
   "outputs": [
    {
     "data": {
      "text/plain": [
       "[1, 2, 3, 7, 4]"
      ]
     },
     "execution_count": 161,
     "metadata": {},
     "output_type": "execute_result"
    }
   ],
   "source": [
    "as1.insert_at(3,7)\n",
    "as1.array"
   ]
  },
  {
   "cell_type": "code",
   "execution_count": 162,
   "metadata": {},
   "outputs": [
    {
     "name": "stdout",
     "output_type": "stream",
     "text": [
      "3\n"
     ]
    },
    {
     "data": {
      "text/plain": [
       "[1, 2, 7, 4]"
      ]
     },
     "execution_count": 162,
     "metadata": {},
     "output_type": "execute_result"
    }
   ],
   "source": [
    "print(as1.delete_at(2))\n",
    "as1.array"
   ]
  },
  {
   "cell_type": "code",
   "execution_count": 163,
   "metadata": {},
   "outputs": [
    {
     "data": {
      "text/plain": [
       "[7, 1, 2, 7, 4]"
      ]
     },
     "execution_count": 163,
     "metadata": {},
     "output_type": "execute_result"
    }
   ],
   "source": [
    "as1.insert_first(7)\n",
    "as1.array"
   ]
  },
  {
   "cell_type": "code",
   "execution_count": 164,
   "metadata": {},
   "outputs": [
    {
     "name": "stdout",
     "output_type": "stream",
     "text": [
      "7\n"
     ]
    },
    {
     "data": {
      "text/plain": [
       "[1, 2, 7, 4]"
      ]
     },
     "execution_count": 164,
     "metadata": {},
     "output_type": "execute_result"
    }
   ],
   "source": [
    "print(as1.delete_first())\n",
    "as1.array"
   ]
  },
  {
   "cell_type": "code",
   "execution_count": 165,
   "metadata": {},
   "outputs": [
    {
     "data": {
      "text/plain": [
       "[5, 1, 2, 7, 4]"
      ]
     },
     "execution_count": 165,
     "metadata": {},
     "output_type": "execute_result"
    }
   ],
   "source": [
    "as1.insert_first(5)\n",
    "as1.array"
   ]
  },
  {
   "cell_type": "code",
   "execution_count": 167,
   "metadata": {},
   "outputs": [
    {
     "name": "stdout",
     "output_type": "stream",
     "text": [
      "5\n"
     ]
    },
    {
     "data": {
      "text/plain": [
       "[1, 2, 7, 4]"
      ]
     },
     "execution_count": 167,
     "metadata": {},
     "output_type": "execute_result"
    }
   ],
   "source": [
    "print(as1.delete_first())\n",
    "as1.array"
   ]
  },
  {
   "cell_type": "markdown",
   "metadata": {},
   "source": [
    "# To-do\n",
    "\n",
    "- Create tests using pytest to automate the testing process\n",
    "- Create dynamic array sequence to reduce the time complexity of insert and delete operations"
   ]
  }
 ],
 "metadata": {
  "kernelspec": {
   "display_name": "base",
   "language": "python",
   "name": "python3"
  },
  "language_info": {
   "codemirror_mode": {
    "name": "ipython",
    "version": 3
   },
   "file_extension": ".py",
   "mimetype": "text/x-python",
   "name": "python",
   "nbconvert_exporter": "python",
   "pygments_lexer": "ipython3",
   "version": "3.11.6"
  }
 },
 "nbformat": 4,
 "nbformat_minor": 2
}
