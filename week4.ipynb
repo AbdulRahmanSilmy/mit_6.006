{
 "cells": [
  {
   "cell_type": "markdown",
   "metadata": {},
   "source": [
    "# Binary Trees \n",
    "\n",
    "This notebook contains a implementation of binary trees without balancing "
   ]
  },
  {
   "cell_type": "code",
   "execution_count": null,
   "metadata": {},
   "outputs": [],
   "source": [
    "class Binary_Node:\n",
    "    def __init__(self,x):\n",
    "        self.item = x\n",
    "        self.left = None \n",
    "        self.right = None\n",
    "        self.parent = None \n",
    "\n",
    "    def subtree_iter(self):\n",
    "        if self.left: yield from self.left.subtree_iter()\n",
    "        yield self.item\n",
    "        if self.right: yield from self.right.subtree_iter()\n",
    "\n",
    "    def subtree_first(self):\n",
    "        if self.left: return self.left.subtree_first()\n",
    "        else: return self\n",
    "\n",
    "    def subtree_last(self):\n",
    "        if self.right: return self.right.subtree_last()\n",
    "        else: return self \n",
    "\n",
    "    def successor(self):\n",
    "        if self.right: return self.right.subtree_first()\n",
    "        while self.parent and (self.parent.right is self):\n",
    "            self = self.parent\n",
    "    \n",
    "        return self.parent \n",
    "    \n",
    "    def predecessor(self):\n",
    "        if self.left: return self.left.subtree_last()\n",
    "        while self.parent and (self.parent.left is self):\n",
    "            self = self.parent \n",
    "\n",
    "        return self.parent \n",
    "    \n",
    "    def subtree_insert_before(self,node):\n",
    "        if self.left:\n",
    "            A = self.left.subtree_last()\n",
    "            A.right, node.parent = node, A\n",
    "        else:\n",
    "            self.left, node.parent = node, self\n",
    "\n",
    "    def subtree_insert_after(self,node):\n",
    "        if self.right:\n",
    "            A = self.right.subtree_first()\n",
    "            A.left, node.parent = node, A\n",
    "        else:\n",
    "            self.right, node.parent = node, self\n",
    "    "
   ]
  },
  {
   "cell_type": "markdown",
   "metadata": {},
   "source": [
    "## To-do:\n",
    "- Implement subtree_delete method for the class binary_node\n",
    "- test out the data structure \n",
    "- learn how to balance binary trees to get height to O(log(n))"
   ]
  }
 ],
 "metadata": {
  "language_info": {
   "name": "python"
  }
 },
 "nbformat": 4,
 "nbformat_minor": 2
}
