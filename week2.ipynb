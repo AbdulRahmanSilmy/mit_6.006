{
 "cells": [
  {
   "cell_type": "markdown",
   "metadata": {},
   "source": [
    "# Comparison Sorting "
   ]
  },
  {
   "cell_type": "markdown",
   "metadata": {},
   "source": [
    "Comparison sort algorithms are lower bounded by O(nlog(n)) in terms of the computational complexity. This is because of the minumum height of the comparison models for sorting are lower bounded by O(nlog(n)).\n",
    "\n",
    "Here the comparison sorting implementations include:\n",
    "- Mergesort "
   ]
  },
  {
   "cell_type": "markdown",
   "metadata": {},
   "source": [
    "## Mergesort"
   ]
  },
  {
   "cell_type": "markdown",
   "metadata": {},
   "source": [
    "Merge sort achieves the lower bound of computational complexity for comparison sorting algorithms."
   ]
  },
  {
   "cell_type": "code",
   "execution_count": 39,
   "metadata": {},
   "outputs": [],
   "source": [
    "def merge_sort(A,a=0,b=None): #O(nlog(n))\n",
    "    if b is None:\n",
    "        b = len(A)\n",
    "    if 1<b-a:\n",
    "        c=(a+b+1)//2\n",
    "        merge_sort(A,a,c)\n",
    "        merge_sort(A,c,b)\n",
    "        L,R=A[a:c],A[c:b]\n",
    "        i,j=0,0\n",
    "        while a<b:\n",
    "            if (j>=len(R)) or (i<len(L) and L[i]<R[j]):\n",
    "                A[a]=L[i]\n",
    "                i+=1\n",
    "            else:\n",
    "                A[a]=R[j]\n",
    "                j+=1\n",
    "            a+=1"
   ]
  },
  {
   "cell_type": "code",
   "execution_count": 43,
   "metadata": {},
   "outputs": [
    {
     "name": "stdout",
     "output_type": "stream",
     "text": [
      "[2, 4, 3, 1, 9, 14, 4, 9, 3, 6, 12]\n",
      "[1, 2, 3, 3, 4, 4, 6, 9, 9, 12, 14]\n"
     ]
    }
   ],
   "source": [
    "list1=[2,4,3,1,9,14,4,9,3,6,12]\n",
    "print(list1)\n",
    "merge_sort(list1)\n",
    "print(list1)\n"
   ]
  },
  {
   "cell_type": "markdown",
   "metadata": {},
   "source": [
    "# To-do \n",
    "- Write notes on stability and inplace"
   ]
  }
 ],
 "metadata": {
  "kernelspec": {
   "display_name": "base",
   "language": "python",
   "name": "python3"
  },
  "language_info": {
   "codemirror_mode": {
    "name": "ipython",
    "version": 3
   },
   "file_extension": ".py",
   "mimetype": "text/x-python",
   "name": "python",
   "nbconvert_exporter": "python",
   "pygments_lexer": "ipython3",
   "version": "3.8.5"
  }
 },
 "nbformat": 4,
 "nbformat_minor": 2
}
